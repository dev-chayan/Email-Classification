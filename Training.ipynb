{
 "cells": [
  {
   "cell_type": "code",
   "execution_count": 70,
   "metadata": {},
   "outputs": [
    {
     "name": "stderr",
     "output_type": "stream",
     "text": [
      "[nltk_data] Downloading package wordnet to\n",
      "[nltk_data]     C:\\Users\\Chayan\\AppData\\Roaming\\nltk_data...\n",
      "[nltk_data]   Package wordnet is already up-to-date!\n"
     ]
    }
   ],
   "source": [
    "import re\n",
    "import spacy\n",
    "from wordcloud import WordCloud, STOPWORDS \n",
    "import pandas as pd\n",
    "import numpy as np\n",
    "from sklearn.metrics import accuracy_score,precision_score,recall_score,f1_score,confusion_matrix,classification_report\n",
    "from sklearn.model_selection import train_test_split\n",
    "import pickle\n",
    "from sklearn.feature_extraction.text import TfidfVectorizer \n",
    "from sklearn.ensemble import RandomForestClassifier\n",
    "import datetime\n",
    "import nltk\n",
    "from nltk import PorterStemmer\n",
    "nltk.download(\"wordnet\")\n",
    "from nltk import WordNetLemmatizer\n",
    "from nltk.stem import WordNetLemmatizer"
   ]
  },
  {
   "cell_type": "code",
   "execution_count": 71,
   "metadata": {},
   "outputs": [
    {
     "data": {
      "text/plain": [
       "'2.2.1'"
      ]
     },
     "execution_count": 71,
     "metadata": {},
     "output_type": "execute_result"
    }
   ],
   "source": [
    "re.__version__"
   ]
  },
  {
   "cell_type": "code",
   "execution_count": 107,
   "metadata": {},
   "outputs": [],
   "source": [
    "def Preprocessing_lemmatization(df,column_name):\n",
    "    \n",
    "    # Email Subject column\n",
    "    df[column_name] = df[column_name].apply(lambda x: re.sub('[^A-Za-z]',\" \",x))\n",
    "    _RE_COMBINE_WHITESPACE = re.compile(r\"\\s+\")\n",
    "    df[column_name] = df[column_name].apply(lambda x: _RE_COMBINE_WHITESPACE.sub(\" \",x).strip())\n",
    "    stopwords = set(STOPWORDS) \n",
    "    lemmatizer = WordNetLemmatizer()\n",
    "    df[column_name] = df[column_name].apply(lambda x : x.lower())\n",
    "    df[column_name] = df[column_name].apply(lambda x : \" \".join(word for word in x.split() if len(word) > 2))\n",
    "    df[column_name] = df[column_name].apply(lambda x : \" \".join([word for word in x.split() if word not in stopwords]))\n",
    "    df[column_name] = df[column_name].apply(lambda x : \" \".join(lemmatizer.lemmatize(token) for token in x.split())) \n",
    "    return df[column_name]"
   ]
  },
  {
   "cell_type": "code",
   "execution_count": 88,
   "metadata": {},
   "outputs": [],
   "source": [
    "def Preprocessing_lemmatization_spacy(df,column_name):\n",
    "    \n",
    "    # Email Subject column\n",
    "    df[column_name] = df[column_name].apply(lambda x: re.sub('[^A-Za-z]',\" \",x))\n",
    "    _RE_COMBINE_WHITESPACE = re.compile(r\"\\s+\")\n",
    "    df[column_name] = df[column_name].apply(lambda x: _RE_COMBINE_WHITESPACE.sub(\" \",x).strip())\n",
    "    stopwords = set(STOPWORDS) \n",
    "    nlp = spacy.load(\"en_core_web_sm\")\n",
    "    df[column_name] = df[column_name].apply(lambda x : x.lower())\n",
    "    df[column_name] = df[column_name].apply(lambda x : \" \".join(word for word in x.split() if len(word) > 2))\n",
    "    df[column_name] = df[column_name].apply(lambda x : \" \".join([word for word in x.split() if word not in stopwords]))\n",
    "    df[column_name] = df[column_name].apply(lambda x : \" \".join(token.lemma_ for token in nlp(x))) \n",
    "    return df[column_name]"
   ]
  },
  {
   "cell_type": "code",
   "execution_count": null,
   "metadata": {},
   "outputs": [],
   "source": [
    "def training(path,validation_split_ratio,tf_ngram_range,tf_max_df,tf_min_df,tf_max_features,rf_max_depth,rf_n_estimators,rf_max_features = \"auto\",rf_min_samples_split = 2,rf_min_samples_leaf = 1):\n",
    "    \n",
    "    # Reading\n",
    "    try:\n",
    "        data = pd.read_excel(path) \n",
    "    except:\n",
    "        data = pd.read_csv(path) \n",
    "    \n",
    "    data.head()\n",
    "\n",
    "    data.isnull().sum()\n",
    "    \n",
    "\n",
    "    # ger rid of na values in Flag\n",
    "    data = data[~data['Flag'].isna()]\n",
    "    print(data.shape)\n",
    "    data.head()\n",
    "\n",
    "    data_copy = data.copy()\n",
    "    data_copy['combined'] = data_copy.apply(lambda x : f\"{x['Tower Name']} {x['Application Name']} {x['Email Subject']}\",axis = 1)\n",
    "    data_copy[\"combined\"] = Preprocessing_lemmatization(data_copy, \"combined\")\n",
    "    X = data_copy[\"combined\"]\n",
    "    y = data_copy[\"Flag\"].map({\"Actionable\" : 0, \"Non Actionable\" : 1})\n",
    "\n",
    "    \n",
    "    X_train, X_test, y_train, y_test = train_test_split(X, y, test_size= validation_split_ratio, random_state=42)\n",
    "    \n",
    "                                      \n",
    "    vectorizer = TfidfVectorizer(use_idf = True, ngram_range = tf_ngram_range,max_df = tf_max_df,min_df = tf_min_df,max_features = tf_max_features,norm= 'l2')\n",
    "    train_data = vectorizer.fit_transform(X_train)\n",
    "    test_data = vectorizer.transform(X_test)\n",
    "    print(train_data.shape)\n",
    "    print(test_data.shape)                                        \n",
    "\n",
    "    \n",
    "    # Dump the file\n",
    "    pickle.dump(vectorizer, open(f\"tfidf{datetime.datetime.now().time().strftime('%H_%M_%S')}.pkl\", \"wb\"))\n",
    "                                 \n",
    "                                 \n",
    "    rf_model = RandomForestClassifier(max_depth = rf_max_depth,\n",
    "                                     max_features = rf_max_features,\n",
    "                                     n_estimators = rf_n_estimators,\n",
    "                                     min_samples_split = rf_min_samples_split,\n",
    "                                     min_samples_leaf = rf_min_samples_leaf,\n",
    "                                     random_state = 10)\n",
    "    rf_model.fit(train_data,y_train)\n",
    "\n",
    "    with open(f\"random_forest_tfidf{datetime.datetime.now().time().strftime('%H_%M_%S')}.pkl\", 'wb') as f:\n",
    "        pickle.dump(rf_model, f)\n",
    "\n",
    "    ## prediction\n",
    "    print(train_data.shape)\n",
    "    prediction_rf_train = rf_model.predict(train_data)\n",
    "\n",
    "    print(\"---------------Training Result random forest--------------- \\n \\n\")\n",
    "    print(confusion_matrix(y_train,prediction_rf_train))\n",
    "    print(\"accuracy -- \" , accuracy_score(y_train,prediction_rf_train))\n",
    "    print(\"precision_score -- \" , precision_score(y_train,prediction_rf_train))\n",
    "    print(\"recall_score -- \" , recall_score(y_train,prediction_rf_train))\n",
    "    print(\"f1_score -- \" , f1_score(y_train,prediction_rf_train))\n",
    "    print(\"classification report --- \\n\",classification_report(y_train,prediction_rf_train))\n",
    "    \n",
    "    print(test_data.shape)\n",
    "              \n",
    "    prediction_rf_test = rf_model.predict(test_data)\n",
    "\n",
    "    print(\"---------------Testing Result random forest--------------- \\n \\n\")\n",
    "    print(confusion_matrix(y_test,prediction_rf_test))\n",
    "    print(\"accuracy -- \" , accuracy_score(y_test,prediction_rf_test))\n",
    "    print(\"precision_score -- \" , precision_score(y_test,prediction_rf_test))\n",
    "    print(\"recall_score -- \" , recall_score(y_test,prediction_rf_test))\n",
    "    print(\"f1_score -- \" , f1_score(y_test,prediction_rf_test))\n",
    "    print(\"classification report --- \\n\",classification_report(y_test,prediction_rf_test))"
   ]
  },
  {
   "cell_type": "code",
   "execution_count": 106,
   "metadata": {},
   "outputs": [
    {
     "name": "stdout",
     "output_type": "stream",
     "text": [
      "(66, 4)\n",
      "(39, 50)\n",
      "(27, 50)\n",
      "(39, 50)\n",
      "---------------Training Result random forest--------------- \n",
      " \n",
      "\n",
      "[[25  2]\n",
      " [ 1 11]]\n",
      "accuracy --  0.9230769230769231\n",
      "precision_score --  0.8461538461538461\n",
      "recall_score --  0.9166666666666666\n",
      "f1_score --  0.8799999999999999\n",
      "classification report --- \n",
      "               precision    recall  f1-score   support\n",
      "\n",
      "           0       0.96      0.93      0.94        27\n",
      "           1       0.85      0.92      0.88        12\n",
      "\n",
      "   micro avg       0.92      0.92      0.92        39\n",
      "   macro avg       0.90      0.92      0.91        39\n",
      "weighted avg       0.93      0.92      0.92        39\n",
      "\n",
      "(27, 50)\n",
      "---------------Testing Result random forest--------------- \n",
      " \n",
      "\n",
      "[[19  2]\n",
      " [ 2  4]]\n",
      "accuracy --  0.8518518518518519\n",
      "precision_score --  0.6666666666666666\n",
      "recall_score --  0.6666666666666666\n",
      "f1_score --  0.6666666666666666\n",
      "classification report --- \n",
      "               precision    recall  f1-score   support\n",
      "\n",
      "           0       0.90      0.90      0.90        21\n",
      "           1       0.67      0.67      0.67         6\n",
      "\n",
      "   micro avg       0.85      0.85      0.85        27\n",
      "   macro avg       0.79      0.79      0.79        27\n",
      "weighted avg       0.85      0.85      0.85        27\n",
      "\n"
     ]
    }
   ],
   "source": [
    "training(\"Email_Classificaion.xlsx\",\n",
    "         validation_split_ratio = .4,\n",
    "         tf_ngram_range = (1,2),\n",
    "         tf_max_df = 20,\n",
    "         tf_min_df = 3,\n",
    "         tf_max_features = 100,\n",
    "         rf_max_depth = 5,\n",
    "         rf_n_estimators = 150,\n",
    "         rf_max_features = None,\n",
    "         rf_min_samples_split = 3,\n",
    "         rf_min_samples_leaf = 2\n",
    "        )"
   ]
  },
  {
   "cell_type": "markdown",
   "metadata": {},
   "source": [
    "## Testing"
   ]
  },
  {
   "cell_type": "code",
   "execution_count": 61,
   "metadata": {},
   "outputs": [],
   "source": [
    "def prediction_single_observation(tower_name,application_name,email_subject,tf_extractor_path,rf_model_path):\n",
    "    \n",
    "    # input\n",
    "    tower_nm = str(tower_name)\n",
    "    app_nm = str(application_name)\n",
    "    email_sb = str(email_subject)\n",
    "    email_bdy = \"\"\n",
    "    \n",
    "    #preprocessing\n",
    "    combined = tower_nm + \" \" + app_nm + \" \" + email_sb + \" \" + email_bdy\n",
    "    \n",
    "    combined = re.sub('[^A-Za-z]',\" \",combined)\n",
    "    _RE_COMBINE_WHITESPACE = re.compile(r\"\\s+\")\n",
    "    combined = _RE_COMBINE_WHITESPACE.sub(\" \", combined).strip()\n",
    "    stopwords = set(STOPWORDS) \n",
    "    nlp = spacy.load(\"en_core_web_sm\")\n",
    "    combined = combined.lower()\n",
    "    combined = \" \".join(word for word in combined.split() if len(word) > 2)\n",
    "    combined = \" \".join([word for word in combined.split() if word not in stopwords])\n",
    "    combined = \" \".join(token.lemma_ for token in nlp(combined))\n",
    "    \n",
    "    # Feature Extraction\n",
    "    # load the feature extarctor\n",
    "    tf_idf = pickle.load(open(tf_extractor_path, 'rb'))\n",
    "    \n",
    "    combined = pd.Series(combined)\n",
    "    test_data = tf_idf.transform(combined)\n",
    "    \n",
    "    # load the model from disk\n",
    "    loaded_model = pickle.load(open(rf_model_path, 'rb'))\n",
    "    result = loaded_model.predict(test_data)\n",
    "    \n",
    "    if result[0] == 0:\n",
    "        print(\"Actionable\")\n",
    "        \n",
    "    else:\n",
    "        print(\"Non Actionable\")\n",
    "\n",
    "        \n",
    "        \n",
    "    \n",
    "\n",
    "def prediction_data(path,tf_extractor_path,rf_model_path):\n",
    "    \n",
    "    # Reading\n",
    "    try:\n",
    "        data = pd.read_excel(path) \n",
    "    except:\n",
    "        data = pd.read_csv(path) \n",
    "    \n",
    "    \n",
    "    #preprocessing\n",
    "    data['combined'] = data.apply(lambda x : f\"{x[0]} {x[1]} {x[2]}\",axis = 1)\n",
    "    data[\"combined\"] = Preprocessing_lemmatization_spacy(data, \"combined\")\n",
    "    \n",
    "    \n",
    "    # Feature Extraction\n",
    "    # load the feature extarctor\n",
    "    tf_idf = pickle.load(open(tf_extractor_path, 'rb'))\n",
    "    test_data = tf_idf.transform(data[\"combined\"])\n",
    "    \n",
    "    # load the model \n",
    "    loaded_model = pickle.load(open(rf_model_path, 'rb'))\n",
    "    result = loaded_model.predict(test_data)\n",
    "    #print(result)\n",
    "    \n",
    "    #concat prediction\n",
    "    data[\"Flag\"] = result\n",
    "    data[\"Flag\"] = data[\"Flag\"].map({0 : \"Actionable\" , 1 : \"Non Actionable\"})\n",
    "    \n",
    "    data.to_csv(\"result_data.csv\")\n",
    "    print(\"check data in your current directory\")"
   ]
  },
  {
   "cell_type": "markdown",
   "metadata": {},
   "source": [
    "## Checking"
   ]
  },
  {
   "cell_type": "code",
   "execution_count": 62,
   "metadata": {},
   "outputs": [
    {
     "name": "stdout",
     "output_type": "stream",
     "text": [
      "Actionable\n"
     ]
    }
   ],
   "source": [
    "prediction_single_observation('Core Pharmacy' ,'PharmRDS-Accredo RealTime Messages','error alert please solve','tfidf22_43_58.pkl','random_forest_tfidf22_43_58.pkl')"
   ]
  },
  {
   "cell_type": "code",
   "execution_count": 63,
   "metadata": {
    "scrolled": true
   },
   "outputs": [
    {
     "name": "stdout",
     "output_type": "stream",
     "text": [
      "check data in your current directory\n"
     ]
    }
   ],
   "source": [
    "prediction_data(\"Book1.xlsx\",'tfidf22_43_58.pkl','random_forest_tfidf22_43_58.pkl')"
   ]
  },
  {
   "cell_type": "code",
   "execution_count": null,
   "metadata": {},
   "outputs": [],
   "source": []
  }
 ],
 "metadata": {
  "kernelspec": {
   "display_name": "Python 3",
   "language": "python",
   "name": "python3"
  },
  "language_info": {
   "codemirror_mode": {
    "name": "ipython",
    "version": 3
   },
   "file_extension": ".py",
   "mimetype": "text/x-python",
   "name": "python",
   "nbconvert_exporter": "python",
   "pygments_lexer": "ipython3",
   "version": "3.8.3"
  }
 },
 "nbformat": 4,
 "nbformat_minor": 2
}
