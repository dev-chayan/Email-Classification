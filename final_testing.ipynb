{
 "cells": [
  {
   "cell_type": "code",
   "execution_count": 5,
   "metadata": {},
   "outputs": [],
   "source": [
    "import pandas as pd\n",
    "import numpy as np\n",
    "import re\n",
    "from wordcloud import WordCloud, STOPWORDS \n",
    "import spacy\n",
    "from sklearn.feature_extraction.text import TfidfVectorizer  \n",
    "import pickle"
   ]
  },
  {
   "cell_type": "code",
   "execution_count": 6,
   "metadata": {},
   "outputs": [],
   "source": [
    "def Preprocessing_lemmatization_spacy(df,column_name):\n",
    "    # Email Subject column\n",
    "    df[column_name] = df[column_name].apply(lambda x: re.sub('[^A-Za-z]',\" \",x))\n",
    "    _RE_COMBINE_WHITESPACE = re.compile(r\"\\s+\")\n",
    "    df[column_name] = df[column_name].apply(lambda x: _RE_COMBINE_WHITESPACE.sub(\" \",x).strip())\n",
    "    stopwords = set(STOPWORDS) \n",
    "    nlp = spacy.load(\"en_core_web_sm\")\n",
    "    df[column_name] = df[column_name].apply(lambda x : x.lower())\n",
    "    df[column_name] = df[column_name].apply(lambda x : \" \".join(word for word in x.split() if len(word) > 2))\n",
    "    df[column_name] = df[column_name].apply(lambda x : \" \".join([word for word in x.split() if word not in stopwords]))\n",
    "    df[column_name] = df[column_name].apply(lambda x : \" \".join(token.lemma_ for token in nlp(x))) \n",
    "    return df[column_name]"
   ]
  },
  {
   "cell_type": "markdown",
   "metadata": {},
   "source": [
    "## Testing"
   ]
  },
  {
   "cell_type": "code",
   "execution_count": 7,
   "metadata": {},
   "outputs": [],
   "source": [
    "\n",
    "def prediction_single_observation(tower_name,application_name,email_subject,email_body):\n",
    "    \n",
    "    # input\n",
    "    tower_nm = str(tower_name)\n",
    "    app_nm = str(application_name)\n",
    "    email_sb = str(email_subject)\n",
    "    email_bdy = \"\"\n",
    "    \n",
    "    #preprocessing\n",
    "    combined = tower_nm + \" \" + app_nm + \" \" + email_sb + \" \" + email_bdy\n",
    "    \n",
    "    combined = re.sub('[^A-Za-z]',\" \",combined)\n",
    "    _RE_COMBINE_WHITESPACE = re.compile(r\"\\s+\")\n",
    "    combined = _RE_COMBINE_WHITESPACE.sub(\" \", combined).strip()\n",
    "    stopwords = set(STOPWORDS) \n",
    "    nlp = spacy.load(\"en_core_web_sm\")\n",
    "    combined = combined.lower()\n",
    "    combined = \" \".join(word for word in combined.split() if len(word) > 2)\n",
    "    combined = \" \".join([word for word in combined.split() if word not in stopwords])\n",
    "    combined = \" \".join(token.lemma_ for token in nlp(combined))\n",
    "    \n",
    "    # Feature Extraction\n",
    "    # load the feature extarctor\n",
    "    tf_idf = pickle.load(open(\"tfidf.pkl\", 'rb'))\n",
    "    \n",
    "    combined = pd.Series(combined)\n",
    "    test_data = tf_idf.transform(combined)\n",
    "    \n",
    "    # load the model from disk\n",
    "    loaded_model = pickle.load(open(\"random_forest_tfidf.pkl\", 'rb'))\n",
    "    result = loaded_model.predict(test_data)\n",
    "    \n",
    "    if result[0] == 0:\n",
    "        print(\"Actionable\")\n",
    "        \n",
    "    else:\n",
    "        print(\"Non Actionable\")\n",
    "\n",
    "        \n",
    "        \n",
    "    \n",
    "\n",
    "def prediction_data(path):\n",
    "    \n",
    "    # Reading\n",
    "    try:\n",
    "        data = pd.read_excel(path) \n",
    "    except:\n",
    "        data = pd.read_csv(path) \n",
    "    \n",
    "    \n",
    "    #preprocessing\n",
    "    data['combined'] = data.apply(lambda x : f\"{x[0]} {x[1]} {x[2]}\",axis = 1)\n",
    "    data[\"combined\"] = Preprocessing_lemmatization_spacy(data, \"combined\")\n",
    "    \n",
    "    \n",
    "    # Feature Extraction\n",
    "    # load the feature extarctor\n",
    "    tf_idf = pickle.load(open(\"tfidf.pkl\", 'rb'))\n",
    "    test_data = tf_idf.transform(data[\"combined\"])\n",
    "    \n",
    "    # load the model \n",
    "    loaded_model = pickle.load(open(\"random_forest_tfidf.pkl\", 'rb'))\n",
    "    result = loaded_model.predict(test_data)\n",
    "    #print(result)\n",
    "    \n",
    "    #concat prediction\n",
    "    data[\"Flag\"] = result\n",
    "    data[\"Flag\"] = data[\"Flag\"].map({0 : \"Actionable\" , 1 : \"Non Actionable\"})\n",
    "    \n",
    "    data.to_csv(\"result_data.csv\")\n",
    "    print(\"check data in ypur current directory\")"
   ]
  },
  {
   "cell_type": "markdown",
   "metadata": {},
   "source": [
    "## Checking"
   ]
  },
  {
   "cell_type": "code",
   "execution_count": 8,
   "metadata": {},
   "outputs": [
    {
     "name": "stdout",
     "output_type": "stream",
     "text": [
      "Actionable\n"
     ]
    }
   ],
   "source": [
    "prediction_single_observation('Core Pharmacy' ,'PharmRDS-Accredo RealTime Messages','error alert please solve',\"\")"
   ]
  },
  {
   "cell_type": "code",
   "execution_count": 9,
   "metadata": {},
   "outputs": [
    {
     "name": "stdout",
     "output_type": "stream",
     "text": [
      "check data in ypur current directory\n"
     ]
    }
   ],
   "source": [
    "prediction_data(\"Book1.xlsx\")"
   ]
  },
  {
   "cell_type": "code",
   "execution_count": null,
   "metadata": {},
   "outputs": [],
   "source": []
  }
 ],
 "metadata": {
  "kernelspec": {
   "display_name": "Python 3",
   "language": "python",
   "name": "python3"
  },
  "language_info": {
   "codemirror_mode": {
    "name": "ipython",
    "version": 3
   },
   "file_extension": ".py",
   "mimetype": "text/x-python",
   "name": "python",
   "nbconvert_exporter": "python",
   "pygments_lexer": "ipython3",
   "version": "3.8.3"
  }
 },
 "nbformat": 4,
 "nbformat_minor": 2
}
